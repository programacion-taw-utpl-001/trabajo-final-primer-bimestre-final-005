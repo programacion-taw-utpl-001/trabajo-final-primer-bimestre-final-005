{
 "cells": [
  {
   "cell_type": "markdown",
   "metadata": {},
   "source": [
    "# Manejo y Visualización de Datos con Python"
   ]
  },
  {
   "cell_type": "markdown",
   "metadata": {},
   "source": [
    "## Obtención de la información"
   ]
  },
  {
   "cell_type": "markdown",
   "metadata": {},
   "source": [
    "La información fue obtenida gracias a la ayuda de la pagina Ecuador en cifras en la cual encontramos archivos con \n",
    "Estadísticas Sociales y Demográficas, Estadísticas Económicas y Estadísticas Ambientales y varios dominios donde cada \n",
    "una de ella tenia una amplia clasificación de la cual podíamos elegir a nuestra preferencia en nuestro caso \n",
    "elejimos \"Camas y Egresos hospitalarios\" que se encuentra dentro de Estadísticas Sociales."
   ]
  },
  {
   "cell_type": "markdown",
   "metadata": {},
   "source": [
    "# Marco Teorico"
   ]
  },
  {
   "cell_type": "markdown",
   "metadata": {},
   "source": [
    "## **_Jupyter_**"
   ]
  },
  {
   "cell_type": "markdown",
   "metadata": {},
   "source": [
    "Jupyter Notebook es una aplicación web que permite crear y compartir documentos que contienen código fuente, ecuaciones, visualizaciones y texto explicativo. Entre sus usos está la limpieza y transformación de datos, la simulación numérica, el modelado estadístico\n",
    "\n",
    "Utilizamos Jupyter mediante su Notebook previamente instalado en nuestro computadora. Utilizamos Python con su ultima version 3.6."
   ]
  },
  {
   "cell_type": "markdown",
   "metadata": {},
   "source": [
    "## **_Pandas_**"
   ]
  },
  {
   "cell_type": "markdown",
   "metadata": {},
   "source": [
    "Pandas es una biblioteca de código abierto con licencia de BSD que proporciona estructuras de datos y herramientas de análisis de datos de alto rendimiento y fácil de usar para el lenguaje de programación Python ."
   ]
  },
  {
   "cell_type": "markdown",
   "metadata": {},
   "source": [
    "## **_Bokeh_** "
   ]
  },
  {
   "cell_type": "markdown",
   "metadata": {},
   "source": [
    "Bokeh es una biblioteca de visualización interactiva de Python que se dirige a navegadores web modernos para su presentación. Su objetivo es proporcionar una construcción elegante y concisa de gráficos novedosos al estilo de D3.js y ampliar esta capacidad con interactividad de alto rendimiento en conjuntos de datos de gran tamaño o de transmisión. Bokeh puede ayudar a cualquiera que desee crear trazados interactivos, cuadros de mando y aplicaciones de datos de manera rápida y fácil.\n",
    "\n"
   ]
  },
  {
   "cell_type": "markdown",
   "metadata": {},
   "source": [
    "# **_Propuesta de Visualizacion_**"
   ]
  },
  {
   "cell_type": "markdown",
   "metadata": {},
   "source": [
    "### Total de camas disponibles en el pais vs camas disponibles en la provincia y canton Loja\n",
    "\n",
    "![#Total de camas disponibles en el pais vs camas disponibles en la provincia y canton Loja](https://scontent.fgye1-1.fna.fbcdn.net/v/t34.0-12/24726539_1744500765600694_823799793_n.png?oh=b2467f8a739885e4e1bd43d3271563b3&oe=5A289917)"
   ]
  },
  {
   "cell_type": "markdown",
   "metadata": {},
   "source": [
    " ### Dias totales ocupados vs dias disponibles de camas en el canton Loja\n",
    "\n",
    "![Dias totales ocupados vs dias disponibles de camas en el canton Loja](https://scontent.fgye1-1.fna.fbcdn.net/v/t34.0-12/24726835_1744502032267234_231594243_n.png?oh=9e15eb4eeab2a91946a72e24eecb429b&oe=5A29C8A1)"
   ]
  },
  {
   "cell_type": "markdown",
   "metadata": {},
   "source": [
    "### Grafica de las camas individuales por Area\n",
    "\n",
    "![Grafica de las camas individuales por Area](https://scontent.fgye1-1.fna.fbcdn.net/v/t35.0-12/24819230_1744512582266179_334851526_o.png?oh=d1e77022e971a58fa9f63e0b0e7f3e02&oe=5A28D653)\n"
   ]
  },
  {
   "cell_type": "markdown",
   "metadata": {},
   "source": [
    "### Porcentaje de personas fallecidas en menos de 48H, en 48H y mas\n",
    "![Porcentaje de personas fallecidas con respecto a menos de 48H, en 48 h y mas](https://scontent.fgye1-1.fna.fbcdn.net/v/t34.0-12/24740443_1744522425598528_750827806_n.png?oh=3c007787f043019205eab36c33f8ebbe&oe=5A28994F)"
   ]
  },
  {
   "cell_type": "markdown",
   "metadata": {},
   "source": [
    "# **_Bibliografia_**"
   ]
  },
  {
   "cell_type": "markdown",
   "metadata": {},
   "source": [
    "* http://www.ecuadorencifras.gob.ec/camas-y-egresos-hospitalarios/#\n",
    "* https://bokeh.pydata.org/en/latest/\n",
    "* http://jupyter.org/\n",
    "* http://pandas.pydata.org/\n",
    "* https://en.wikipedia.org/wiki/Pandas_(software)"
   ]
  },
  {
   "cell_type": "code",
   "execution_count": null,
   "metadata": {},
   "outputs": [],
   "source": []
  }
 ],
 "metadata": {
  "kernelspec": {
   "display_name": "Python 3",
   "language": "python",
   "name": "python3"
  },
  "language_info": {
   "codemirror_mode": {
    "name": "ipython",
    "version": 3
   },
   "file_extension": ".py",
   "mimetype": "text/x-python",
   "name": "python",
   "nbconvert_exporter": "python",
   "pygments_lexer": "ipython3",
   "version": "3.6.3"
  }
 },
 "nbformat": 4,
 "nbformat_minor": 2
}
